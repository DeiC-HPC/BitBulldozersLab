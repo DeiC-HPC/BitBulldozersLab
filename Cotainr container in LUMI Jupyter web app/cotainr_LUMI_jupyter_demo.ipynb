{
 "cells": [
  {
   "cell_type": "markdown",
   "metadata": {},
   "source": [
    "# Cotainr LUMI Jupyter demo\n",
    "\n",
    "This is a simple notebook that lists the Python interpreter and conda environment in which it is running.\n",
    "\n",
    "When this notebook is run using a Jupyter conda environment installed in a container created using [cotainr](https://cotainr.readthedocs.io/), it should report that it is running in a conda environment installed in \"/opt/conda/envs/conda_container_env/\"."
   ]
  },
  {
   "cell_type": "code",
   "execution_count": 1,
   "metadata": {},
   "outputs": [],
   "source": [
    "import os\n",
    "import sys"
   ]
  },
  {
   "cell_type": "code",
   "execution_count": null,
   "metadata": {},
   "outputs": [],
   "source": [
    "conda_env = os.environ[\"CONDA_PREFIX\"]\n",
    "python_interpreter = sys.executable\n",
    "\n",
    "print(\n",
    "    f\"We are running the Python intepreter from {python_interpreter}\\n\"\n",
    "    f\"in a conda environment at {conda_env}\")"
   ]
  },
  {
   "cell_type": "code",
   "execution_count": null,
   "metadata": {},
   "outputs": [],
   "source": [
    "print(\"The packages installed in the conda environment are:\")\n",
    "! conda list"
   ]
  }
 ],
 "metadata": {
  "kernelspec": {
   "display_name": "anaconda_202111",
   "language": "python",
   "name": "python3"
  },
  "language_info": {
   "codemirror_mode": {
    "name": "ipython",
    "version": 3
   },
   "file_extension": ".py",
   "mimetype": "text/x-python",
   "name": "python",
   "nbconvert_exporter": "python",
   "pygments_lexer": "ipython3",
   "version": "3.9.7"
  }
 },
 "nbformat": 4,
 "nbformat_minor": 2
}
